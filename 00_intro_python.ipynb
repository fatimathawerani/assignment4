{
  "nbformat": 4,
  "nbformat_minor": 0,
  "metadata": {
    "colab": {
      "provenance": [],
      "authorship_tag": "ABX9TyPSC69cj63k/iJkLCu+2Rn8",
      "include_colab_link": true
    },
    "kernelspec": {
      "name": "python3",
      "display_name": "Python 3"
    },
    "language_info": {
      "name": "python"
    }
  },
  "cells": [
    {
      "cell_type": "markdown",
      "metadata": {
        "id": "view-in-github",
        "colab_type": "text"
      },
      "source": [
        "<a href=\"https://colab.research.google.com/github/fatimathawerani/assignment4/blob/main/00_intro_python.ipynb\" target=\"_parent\"><img src=\"https://colab.research.google.com/assets/colab-badge.svg\" alt=\"Open In Colab\"/></a>"
      ]
    },
    {
      "cell_type": "code",
      "execution_count": null,
      "metadata": {
        "id": "V0nivJDCkbI0",
        "colab": {
          "base_uri": "https://localhost:8080/"
        },
        "outputId": "dc350394-cf44-4f47-bb57-1eae8ec761ce"
      },
      "outputs": [
        {
          "output_type": "stream",
          "name": "stdout",
          "text": [
            "01_add_two_numbers\n",
            "This application for add two numbers\n",
            "Enter first number: 5\n",
            "Enter second number: 4\n",
            "the total number is 5 and 4 is 9\n"
          ]
        }
      ],
      "source": [
        "print(\"01_add_two_numbers\")\n",
        "\n",
        "def add():\n",
        "  print(\"This application for add two numbers\")\n",
        "  first_number = int(input(\"Enter first number: \"))\n",
        "  second_number = int(input(\"Enter second number: \"))\n",
        "  total = (first_number + second_number)\n",
        "  print(f'the total number is {first_number} and {second_number} is {total}' )\n",
        "\n",
        "if __name__ == '__main__':\n",
        "    add()\n"
      ]
    },
    {
      "cell_type": "code",
      "source": [
        "print(\"02_agreement_bot\")\n",
        "\n",
        "def bot():\n",
        "  animal = str(input(\"What is your favourite animal?\"))\n",
        "  print(f'My favourite animal is also {animal}!')\n",
        "\n",
        "if __name__ == '__main__':\n",
        "    bot()"
      ],
      "metadata": {
        "colab": {
          "base_uri": "https://localhost:8080/"
        },
        "id": "Pn3pIhxkpqcI",
        "outputId": "7d50746d-48f3-4587-d018-93b895fbf251"
      },
      "execution_count": null,
      "outputs": [
        {
          "output_type": "stream",
          "name": "stdout",
          "text": [
            "02_agreement_bot\n",
            "What is your favourite animal?peacock\n",
            "My favourite animal is also peacock!\n"
          ]
        }
      ]
    },
    {
      "cell_type": "code",
      "source": [
        "print(\"03_Farenheit_to_celsius\")\n",
        "\n",
        "def temp():\n",
        "  print(\"this code is for converting farenheit to celsius\")\n",
        "  farenheit_degree = float(input(\"Enter the farenheit degree: \"))\n",
        "  celsius_degree = (farenheit_degree - 32) * 5/9\n",
        "  print(f'Temperture {farenheit_degree}F = {celsius_degree}C')\n",
        "\n",
        "if __name__ == '__main__':\n",
        "    temp()\n"
      ],
      "metadata": {
        "colab": {
          "base_uri": "https://localhost:8080/"
        },
        "id": "44TloW5vrMRr",
        "outputId": "3ecad773-e024-4f63-fa0e-d644391c89da"
      },
      "execution_count": null,
      "outputs": [
        {
          "output_type": "stream",
          "name": "stdout",
          "text": [
            "03_Farenheit_to_celsius\n",
            "this code is for converting farenheit to celsius\n",
            "Enter the farenheit degree: 40\n",
            "Temperture 40.0F = 4.444444444444445C\n"
          ]
        }
      ]
    },
    {
      "cell_type": "code",
      "source": [
        "print(\"04_how_old_are_they\")\n",
        "\n",
        "def add_ages():\n",
        "  anthon:int = 21\n",
        "  beth:int = anthon + 6\n",
        "  chen:int = beth + 20\n",
        "  drew:int = chen + anthon\n",
        "  enthan:int = chen\n",
        "\n",
        "  print(\"Anthon is\" + str(anthon))\n",
        "  print(\"Beth is\" + str(beth))\n",
        "  print(\"Chen is\" + str(chen))\n",
        "  print(\"Drew is\" + str(drew))\n",
        "  print(\"Enthan is\" + str(enthan))\n",
        "\n",
        "if __name__ == '__main__':\n",
        "  add_ages()\n",
        "\n"
      ],
      "metadata": {
        "colab": {
          "base_uri": "https://localhost:8080/"
        },
        "id": "8dvmcGURsti_",
        "outputId": "2f5e5f82-8d8a-4495-e1ed-d9939d492f47"
      },
      "execution_count": null,
      "outputs": [
        {
          "output_type": "stream",
          "name": "stdout",
          "text": [
            "04_how_old_are_they\n",
            "Anthon is21\n",
            "Beth is27\n",
            "Chen is47\n",
            "Drew is68\n",
            "Enthan is47\n"
          ]
        }
      ]
    },
    {
      "cell_type": "code",
      "source": [
        "print(\"05_triangle_perimeter\")\n",
        "\n",
        "def triangle():\n",
        "  print(\"This code is about sum of triangle sides\")\n",
        "  side1: float = float(input(\"Enter your first side number of triangle.\"))\n",
        "  side2: float = float(input(\"Enter the second side number of triangle.\"))\n",
        "  side3: float = float(input(\"Enter the third side number of triangle.\"))\n",
        "  total: float = float(side1 + side2 + side3)\n",
        "  print(f'the sum of {side1}, {side2} and {side3} is {total}')\n",
        "\n",
        "if __name__ == '__main__':\n",
        "  triangle()\n",
        ""
      ],
      "metadata": {
        "id": "KKa7ZhScvY88",
        "colab": {
          "base_uri": "https://localhost:8080/"
        },
        "outputId": "f69e2cb3-7669-4c53-88fe-304b73b06ec2"
      },
      "execution_count": 1,
      "outputs": [
        {
          "output_type": "stream",
          "name": "stdout",
          "text": [
            "05_triangle_perimeter\n",
            "This code is about sum of triangle sides\n",
            "Enter your first side number of triangle.6.9\n",
            "Enter the second side number of triangle.4\n",
            "Enter the third side number of triangle.8\n",
            "the sum of 6.9, 4.0 and 8.0 is 18.9\n"
          ]
        }
      ]
    },
    {
      "cell_type": "code",
      "source": [
        "print(\"06_sqaure_number\")\n",
        "\n",
        "def square():\n",
        "  print(\"this code is about square of given number\")\n",
        "  num1:int =int(input(\"Enter any number and I will give you a square.\"))\n",
        "  print(f'The square of {num1} is {num1 ** 2}')\n",
        "\n",
        "if __name__ == \"__main__\":\n",
        "    square()"
      ],
      "metadata": {
        "colab": {
          "base_uri": "https://localhost:8080/"
        },
        "id": "NEHyGdIUNpFO",
        "outputId": "4c761ce5-f634-409d-a481-73dc774dd2a1"
      },
      "execution_count": 7,
      "outputs": [
        {
          "output_type": "stream",
          "name": "stdout",
          "text": [
            "06_sqaure_number\n",
            "this code is about square of given number\n",
            "Enter any number and I will give you a square.6\n",
            "The square of 6 is 36\n"
          ]
        }
      ]
    }
  ]
}