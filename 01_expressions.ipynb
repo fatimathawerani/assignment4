{
  "nbformat": 4,
  "nbformat_minor": 0,
  "metadata": {
    "colab": {
      "provenance": [],
      "authorship_tag": "ABX9TyM3au6hJvDKaBPkW6K0efrD",
      "include_colab_link": true
    },
    "kernelspec": {
      "name": "python3",
      "display_name": "Python 3"
    },
    "language_info": {
      "name": "python"
    }
  },
  "cells": [
    {
      "cell_type": "markdown",
      "metadata": {
        "id": "view-in-github",
        "colab_type": "text"
      },
      "source": [
        "<a href=\"https://colab.research.google.com/github/fatimathawerani/assignment4/blob/main/01_expressions.ipynb\" target=\"_parent\"><img src=\"https://colab.research.google.com/assets/colab-badge.svg\" alt=\"Open In Colab\"/></a>"
      ]
    },
    {
      "cell_type": "code",
      "execution_count": 15,
      "metadata": {
        "colab": {
          "base_uri": "https://localhost:8080/"
        },
        "id": "9H8SmGzcSw8R",
        "outputId": "2a6a02f8-c7be-4a21-aaf5-cf8552130d1c"
      },
      "outputs": [
        {
          "output_type": "stream",
          "name": "stdout",
          "text": [
            "01_dice_simulator\n",
            "die1 in main() starts as: 10\n",
            "Total of two dice: 9\n",
            "Total of two dice: 11\n",
            "Total of two dice: 7\n",
            "die1 in main() is still: 10\n"
          ]
        }
      ],
      "source": [
        "import random\n",
        "\n",
        "print(\"01_dice_simulator\")\n",
        "\n",
        "def roll_dice():\n",
        "    die1: int = random.randint(1, 6)\n",
        "    die2: int = random.randint(1, 6)\n",
        "    total = die1 + die2\n",
        "    print(f'Total of two dice: {total}')\n",
        "\n",
        "def main():\n",
        "    die1: int = 10\n",
        "    print(\"die1 in main() starts as: \" + str(die1))\n",
        "    roll_dice()\n",
        "    roll_dice()\n",
        "    roll_dice()\n",
        "    print(\"die1 in main() is still: \" + str(die1))\n",
        "\n",
        "if __name__ == \"__main__\":\n",
        "    main()\n"
      ]
    },
    {
      "cell_type": "code",
      "source": [
        "print(\"02_e=mc2\")\n",
        "\n",
        "def energy():\n",
        "  c:int= 299792458\n",
        "  m:int= float(input(\"Enter kilos of mass: \"))\n",
        "  print(\"e=m*c^2\")\n",
        "  print(\"Mass = \" + str(m) + \"kg\")\n",
        "  print(\"C = \" + str(c) + \"m/s\")\n",
        "  print(\"e =\" + str(m * c ** 2) + \"joules\")\n",
        "\n",
        "if __name__ == \"__main__\":\n",
        "  energy()\n"
      ],
      "metadata": {
        "colab": {
          "base_uri": "https://localhost:8080/"
        },
        "id": "EXYeukMZW0dz",
        "outputId": "bcb1ea12-1938-4bae-d247-a57e13ee8307"
      },
      "execution_count": 22,
      "outputs": [
        {
          "output_type": "stream",
          "name": "stdout",
          "text": [
            "02_e=mc2\n",
            "Enter kilos of mass: 130\n",
            "e=m*c^2\n",
            "Mass = 130.0kg\n",
            "C = 299792458m/s\n",
            "e =1.1683817323578628e+19joules\n"
          ]
        }
      ]
    },
    {
      "cell_type": "code",
      "source": [
        "print(\"03_feet_to_inches\")\n",
        "\n",
        "inch: int = 12\n",
        "\n",
        "def foot():\n",
        "  feet: int=(input(\"Enter feet and I will convert it into inches.\"))\n",
        "  print(f'There are {inch*feet} inches in {feet} feet.')\n",
        "\n",
        "if __name__ == \"__main__\":\n",
        "  foot()\n"
      ],
      "metadata": {
        "colab": {
          "base_uri": "https://localhost:8080/"
        },
        "id": "ML8uepGhaMMD",
        "outputId": "7ca98038-65a4-43aa-b769-ec52bdc03f33"
      },
      "execution_count": 24,
      "outputs": [
        {
          "output_type": "stream",
          "name": "stdout",
          "text": [
            "03_feet_to_inches\n",
            "Enter feet and I will convert it into inches.45\n",
            "There are 454545454545454545454545 inches in 45 feet.\n"
          ]
        }
      ]
    },
    {
      "cell_type": "code",
      "source": [
        "import math\n",
        "\n",
        "print(\"04_pythagoream_theorem\")\n",
        "\n",
        "def triangle():\n",
        "  ab:float =float(input(\"Enter the length of the side ab\"))\n",
        "  ac:float =float(input(\"Enter the length of the side ac\"))\n",
        "  bc:float =math.sqrt(ab**2 + ac**2)\n",
        "  print(f'The length of the side bc is {bc}')\n",
        "\n",
        "if __name__ == \"__main__\":\n",
        "  triangle()\n",
        "\n"
      ],
      "metadata": {
        "colab": {
          "base_uri": "https://localhost:8080/"
        },
        "id": "KiXuM8gha67V",
        "outputId": "7a68c214-844b-4f6a-e444-adc4836ea43a"
      },
      "execution_count": 25,
      "outputs": [
        {
          "output_type": "stream",
          "name": "stdout",
          "text": [
            "04_pythagoream_theorem\n",
            "Enter the length of the side ab4\n",
            "Enter the length of the side ac3\n",
            "The length of the side bc is 5.0\n"
          ]
        }
      ]
    },
    {
      "cell_type": "code",
      "source": [
        "print(\"05_remainder_division\")\n",
        "\n",
        "def remainder():\n",
        "    num1: int = int(input(\"Enter an integer to be divided (numerator): \"))\n",
        "    num2: int = int(input(\"Enter an integer to divide by (denominator): \"))\n",
        "\n",
        "    if num2 == 0:\n",
        "        print(\"Error: Cannot divide by zero.\")\n",
        "        return\n",
        "\n",
        "    quotient: int = num1 // num2\n",
        "    remainder: int = num1 % num2\n",
        "    print(f'The result of this division is {quotient} with a remainder of {remainder}')\n",
        "\n",
        "if __name__ == \"__main__\":\n",
        "    remainder()\n"
      ],
      "metadata": {
        "colab": {
          "base_uri": "https://localhost:8080/"
        },
        "id": "GMdu7c9-cKIN",
        "outputId": "fd7d8e16-0326-486b-efeb-174246882de4"
      },
      "execution_count": 27,
      "outputs": [
        {
          "output_type": "stream",
          "name": "stdout",
          "text": [
            "05_remainder_division\n",
            "Enter an integer to be divided (numerator): 56\n",
            "Enter an integer to divide by (denominator): 8\n",
            "The result of this division is 7 with a remainder of 0\n"
          ]
        }
      ]
    },
    {
      "cell_type": "code",
      "source": [
        "import random\n",
        "\n",
        "print(\"06_rolldice\")\n",
        "\n",
        "def rolldice():\n",
        " die1:int = random.randint(1,6)\n",
        " die2:int = random.randint(1,6)\n",
        " total:int = int(die1 + die2)\n",
        " print(\"Firstdie\" + str(die1))\n",
        " print(\"Seconddie\" + str(die2))\n",
        " print(\"Total\" + str(total))\n",
        "\n",
        "if __name__ == \"__main__\":\n",
        " rolldice()"
      ],
      "metadata": {
        "colab": {
          "base_uri": "https://localhost:8080/"
        },
        "id": "wU6VcLDidhW0",
        "outputId": "6c00ec91-7716-4aad-8aa6-a1bfe968d355"
      },
      "execution_count": 29,
      "outputs": [
        {
          "output_type": "stream",
          "name": "stdout",
          "text": [
            "06_rolldice\n",
            "Firstdie5\n",
            "Seconddie3\n",
            "Total8\n"
          ]
        }
      ]
    },
    {
      "cell_type": "code",
      "source": [
        "print(\"07_tiny_mad_libs\")\n",
        "\n",
        "def mad_lib():\n",
        "  noun:str = str(input(\"Enter a noun: \"))\n",
        "  verb:str = str(input(\"Enter a verb: \"))\n",
        "  adjective:str = str(input(\"Enter an adjective: \"))\n",
        "  print(f'Do you {verb} and your {adjective} {noun}')\n",
        "\n",
        "if __name__ == \"__main__\":\n",
        "  mad_lib()"
      ],
      "metadata": {
        "colab": {
          "base_uri": "https://localhost:8080/"
        },
        "id": "RY7h98xSe7Y2",
        "outputId": "135f5a76-b72c-4060-d5bc-151f88a5f69b"
      },
      "execution_count": 31,
      "outputs": [
        {
          "output_type": "stream",
          "name": "stdout",
          "text": [
            "07_tiny_mad_libs\n",
            "Enter a noun: fatima\n",
            "Enter a verb: writing\n",
            "Enter an adjective: white\n",
            "Do you writing and your white fatima\n"
          ]
        }
      ]
    },
    {
      "cell_type": "code",
      "source": [],
      "metadata": {
        "id": "sRZ6CGvif9dc"
      },
      "execution_count": null,
      "outputs": []
    }
  ]
}